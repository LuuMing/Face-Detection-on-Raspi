{
 "cells": [
  {
   "cell_type": "code",
   "execution_count": 45,
   "metadata": {},
   "outputs": [],
   "source": [
    "from init import *\n",
    "\n",
    "def getImagePaths(path):\n",
    "    ImagePaths = []\n",
    "    for f in os.listdir(path):\n",
    "        f = os.path.join(path,f) \n",
    "        if (os.path.isfile(f) ):\n",
    "            ImagePaths.append(f)\n",
    "    return ImagePaths"
   ]
  },
  {
   "cell_type": "code",
   "execution_count": 46,
   "metadata": {},
   "outputs": [
    {
     "data": {
      "text/plain": [
       "['./dataset/2018-03-28-21:48:01.png',\n",
       " './dataset/2018-03-28-21:10:03.png',\n",
       " './dataset/2018-03-28-21:11:30.png',\n",
       " './dataset/2018-03-28-21:06:08.png',\n",
       " './dataset/2018-03-28-21:49:33.png',\n",
       " './dataset/2018-03-28-21:47:45.png',\n",
       " './dataset/2018-03-28-21:47:32.png',\n",
       " './dataset/2018-03-28-21:12:51.png',\n",
       " './dataset/2018-03-28-21:16:23.png']"
      ]
     },
     "execution_count": 46,
     "metadata": {},
     "output_type": "execute_result"
    }
   ],
   "source": [
    "getImagePaths(neg_path)"
   ]
  },
  {
   "cell_type": "code",
   "execution_count": 11,
   "metadata": {},
   "outputs": [],
   "source": [
    "pos_path = \"./dataset/0\"\n",
    "neg_path = \"./dataset\"\n",
    "recongnizer = cv2.createLBPHFaceRecognizer()"
   ]
  },
  {
   "cell_type": "code",
   "execution_count": 49,
   "metadata": {},
   "outputs": [],
   "source": [
    "pos_imagePaths = getImagePaths(pos_path)\n",
    "neg_imagePaths = getImagePaths(neg_path)\n",
    "faceSamples=[]"
   ]
  },
  {
   "cell_type": "code",
   "execution_count": 13,
   "metadata": {},
   "outputs": [
    {
     "data": {
      "text/plain": [
       "['./dataset/0/2018-03-28-21:21:05.png',\n",
       " './dataset/0/2018-03-28-21:11:37.png',\n",
       " './dataset/0/2018-03-28-21:10:17.png',\n",
       " './dataset/0/2018-03-28-20:12:00.png',\n",
       " './dataset/0/2018-03-28-21:30:08.png',\n",
       " './dataset/0/2018-03-28-21:09:31.png',\n",
       " './dataset/0/2018-03-28-20:11:23.png',\n",
       " './dataset/0/2018-03-28-20:11:04.png',\n",
       " './dataset/0/2018-03-28-20:12:56.png',\n",
       " './dataset/0/2018-03-28-20:55:07.png',\n",
       " './dataset/0/2018-03-28-20:20:01.png',\n",
       " './dataset/0/2018-03-28-21:16:04.png',\n",
       " './dataset/0/2018-03-28-20:58:20.png',\n",
       " './dataset/0/2018-03-28-20:45:31.png',\n",
       " './dataset/0/2018-03-28-20:58:32.png',\n",
       " './dataset/0/2018-03-29-20:35:11.png',\n",
       " './dataset/0/2018-03-28-21:09:19.png',\n",
       " './dataset/0/2018-03-28-21:49:59.png',\n",
       " './dataset/0/2018-03-28-21:05:07.png',\n",
       " './dataset/0/2018-03-28-20:56:14.png',\n",
       " './dataset/0/2018-03-28-21:17:57.png',\n",
       " './dataset/0/2018-03-28-21:07:42.png',\n",
       " './dataset/0/2018-03-28-21:04:40.png',\n",
       " './dataset/0/2018-03-28-21:20:31.png',\n",
       " './dataset/0/2018-03-28-21:50:12.png',\n",
       " './dataset/0/2018-03-28-20:20:24.png',\n",
       " './dataset/0/2018-03-28-21:27:39.png',\n",
       " './dataset/0/2018-03-28-21:14:29.png',\n",
       " './dataset/0/2018-03-28-21:29:30.png',\n",
       " './dataset/0/2018-03-28-20:11:47.png',\n",
       " './dataset/0/2018-03-28-21:30:32.png',\n",
       " './dataset/0/2018-03-29-20:34:29.png',\n",
       " './dataset/0/2018-03-28-21:12:38.png',\n",
       " './dataset/0/2018-03-28-20:12:13.png',\n",
       " './dataset/0/2018-03-28-20:15:08.png',\n",
       " './dataset/0/2018-03-28-20:08:30.png',\n",
       " './dataset/0/2018-03-28-21:16:14.png',\n",
       " './dataset/0/2018-03-28-21:08:05.png',\n",
       " './dataset/0/2018-03-28-21:30:54.png',\n",
       " './dataset/0/2018-03-28-21:18:56.png',\n",
       " './dataset/0/2018-03-28-21:48:09.png',\n",
       " './dataset/0/2018-03-28-20:20:12.png',\n",
       " './dataset/0/2018-03-28-21:17:19.png',\n",
       " './dataset/0/2018-03-28-21:04:46.png',\n",
       " './dataset/0/2018-03-28-21:20:54.png',\n",
       " './dataset/0/2018-03-28-20:11:17.png',\n",
       " './dataset/0/2018-03-28-21:09:25.png',\n",
       " './dataset/0/2018-03-28-20:12:49.png',\n",
       " './dataset/0/2018-03-28-21:21:18.png',\n",
       " './dataset/0/2018-03-28-20:11:10.png',\n",
       " './dataset/0/2018-03-28-21:22:19.png',\n",
       " './dataset/0/2018-03-28-20:19:16.png',\n",
       " './dataset/0/2018-03-28-21:14:36.png',\n",
       " './dataset/0/2018-03-28-21:12:01.png',\n",
       " './dataset/0/2018-03-28-21:11:16.png',\n",
       " './dataset/0/2018-03-28-20:51:25.png',\n",
       " './dataset/0/2018-03-28-21:22:05.png',\n",
       " './dataset/0/2018-03-28-21:05:13.png',\n",
       " './dataset/0/2018-03-28-21:11:54.png',\n",
       " './dataset/0/2018-03-28-21:07:30.png',\n",
       " './dataset/0/2018-03-28-21:21:54.png',\n",
       " './dataset/0/2018-03-28-21:15:55.png',\n",
       " './dataset/0/2018-03-28-21:07:54.png',\n",
       " './dataset/0/2018-03-28-20:51:37.png',\n",
       " './dataset/0/2018-03-28-20:11:40.png',\n",
       " './dataset/0/2018-03-29-20:34:17.png',\n",
       " './dataset/0/2018-03-28-20:20:36.png',\n",
       " './dataset/0/2018-03-28-21:18:03.png',\n",
       " './dataset/0/2018-03-28-21:12:08.png',\n",
       " './dataset/0/2018-03-28-20:11:53.png']"
      ]
     },
     "execution_count": 13,
     "metadata": {},
     "output_type": "execute_result"
    }
   ],
   "source": [
    "pos_imagePaths"
   ]
  }
 ],
 "metadata": {
  "kernelspec": {
   "display_name": "Python 2",
   "language": "python",
   "name": "python2"
  },
  "language_info": {
   "codemirror_mode": {
    "name": "ipython",
    "version": 2
   },
   "file_extension": ".py",
   "mimetype": "text/x-python",
   "name": "python",
   "nbconvert_exporter": "python",
   "pygments_lexer": "ipython2",
   "version": "2.7.13"
  }
 },
 "nbformat": 4,
 "nbformat_minor": 2
}
