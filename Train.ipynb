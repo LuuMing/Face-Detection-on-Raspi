{
 "cells": [
  {
   "cell_type": "code",
   "execution_count": 1,
   "metadata": {},
   "outputs": [],
   "source": [
    "from init import *\n",
    "import matplotlib.pyplot as plt\n",
    "%matplotlib inline\n",
    "def getImagePaths(path):\n",
    "    ImagePaths = []\n",
    "    for f in os.listdir(path):\n",
    "        f = os.path.join(path,f) \n",
    "        if (os.path.isfile(f) ):\n",
    "            ImagePaths.append(f)\n",
    "    return ImagePaths\n",
    "def  getImagesAndLabels(pos_path,neg_path):\n",
    "    pos_imagePaths = getImagePaths(pos_path)\n",
    "    neg_imagePaths = getImagePaths(neg_path)\n",
    "    faceSamples=[]\n",
    "    ids=[]\n",
    "    for imagePath in pos_imagePaths:\n",
    "        PIL_img = Image.open(imagePath).convert('L') \n",
    "        img_numpy = np.array(PIL_img,'uint8')\n",
    "        faces = faceCascade.detectMultiScale(img_numpy)\n",
    "        for (x,y,w,h) in faces:\n",
    "            faceSamples.append(img_numpy[y:y+h,x:x+w])\n",
    "            ids.append(1)\n",
    "    for imagePath in neg_imagePaths:\n",
    "        PIL_img = Image.open(imagePath).convert('L') \n",
    "        img_numpy = np.array(PIL_img,'uint8')\n",
    "        faces = faceCascade.detectMultiScale(img_numpy)\n",
    "        for (x,y,w,h) in faces:\n",
    "            faceSamples.append(img_numpy[y:y+h,x:x+w])\n",
    "            ids.append(0)\n",
    "    return faceSamples,ids"
   ]
  },
  {
   "cell_type": "code",
   "execution_count": 2,
   "metadata": {},
   "outputs": [],
   "source": [
    "pos_path = \"./dataset/0\"\n",
    "neg_path = \"./dataset\"\n",
    "recognizer = cv2.createLBPHFaceRecognizer()"
   ]
  },
  {
   "cell_type": "code",
   "execution_count": 3,
   "metadata": {},
   "outputs": [],
   "source": [
    "def show(i):\n",
    "    plt.imshow(faces[i])\n",
    "    print ids[i]"
   ]
  },
  {
   "cell_type": "code",
   "execution_count": 4,
   "metadata": {},
   "outputs": [],
   "source": [
    "faces,ids = getImagesAndLabels(pos_path,neg_path)"
   ]
  },
  {
   "cell_type": "code",
   "execution_count": 5,
   "metadata": {},
   "outputs": [],
   "source": [
    "recognizer.train(faces, np.array(ids))"
   ]
  },
  {
   "cell_type": "code",
   "execution_count": 6,
   "metadata": {},
   "outputs": [],
   "source": [
    "recognizer.save('./trainer/0.yml')"
   ]
  }
 ],
 "metadata": {
  "kernelspec": {
   "display_name": "Python 2",
   "language": "python",
   "name": "python2"
  },
  "language_info": {
   "codemirror_mode": {
    "name": "ipython",
    "version": 2
   },
   "file_extension": ".py",
   "mimetype": "text/x-python",
   "name": "python",
   "nbconvert_exporter": "python",
   "pygments_lexer": "ipython2",
   "version": "2.7.13"
  }
 },
 "nbformat": 4,
 "nbformat_minor": 2
}
