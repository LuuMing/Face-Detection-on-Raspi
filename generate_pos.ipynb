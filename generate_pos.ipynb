{
 "cells": [
  {
   "cell_type": "code",
   "execution_count": 18,
   "metadata": {},
   "outputs": [],
   "source": [
    "from init import *\n",
    "import matplotlib.pyplot as plt\n",
    "%matplotlib inline\n",
    "def getImagePaths(path):\n",
    "    ImagePaths = []\n",
    "    for f in os.listdir(path):\n",
    "        f = os.path.join(path,f) \n",
    "        if (os.path.isfile(f) ):\n",
    "            ImagePaths.append(f)\n",
    "    return ImagePaths\n",
    "def  generateTrainFile(pos_path):\n",
    "    pos_imagePaths = getImagePaths(pos_path)\n",
    "    f = open('./pos/0/info.txt','w')\n",
    "    for imagePath in pos_imagePaths:\n",
    "        PIL_img = Image.open(imagePath).convert('L') \n",
    "        img_numpy = np.array(PIL_img,'uint8')\n",
    "        faces = faceCascade.detectMultiScale(img_numpy)\n",
    "        if not faces == ():\n",
    "            for face in faces:\n",
    "                print >> f, imagePath,' ','1',' ',face[0],' ',face[1],' ',face[2],' ',face[3],'\\n'\n",
    "    f.close()"
   ]
  },
  {
   "cell_type": "code",
   "execution_count": 15,
   "metadata": {},
   "outputs": [],
   "source": [
    "pos_path = \"./dataset/0\"\n",
    "neg_path = \"./dataset\""
   ]
  },
  {
   "cell_type": "code",
   "execution_count": 16,
   "metadata": {},
   "outputs": [],
   "source": [
    "def show(i):\n",
    "    plt.imshow(faces[i])\n",
    "    print ids[i]"
   ]
  },
  {
   "cell_type": "code",
   "execution_count": 19,
   "metadata": {},
   "outputs": [
    {
     "name": "stderr",
     "output_type": "stream",
     "text": [
      "/usr/local/lib/python2.7/dist-packages/ipykernel_launcher.py:18: DeprecationWarning: elementwise == comparison failed; this will raise an error in the future.\n"
     ]
    }
   ],
   "source": [
    "generateTrainFile(pos_path)"
   ]
  }
 ],
 "metadata": {
  "kernelspec": {
   "display_name": "Python 2",
   "language": "python",
   "name": "python2"
  },
  "language_info": {
   "codemirror_mode": {
    "name": "ipython",
    "version": 2
   },
   "file_extension": ".py",
   "mimetype": "text/x-python",
   "name": "python",
   "nbconvert_exporter": "python",
   "pygments_lexer": "ipython2",
   "version": "2.7.13"
  }
 },
 "nbformat": 4,
 "nbformat_minor": 2
}
